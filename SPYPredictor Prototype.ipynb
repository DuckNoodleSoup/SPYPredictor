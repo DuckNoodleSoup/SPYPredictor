{
 "cells": [
  {
   "cell_type": "markdown",
   "metadata": {},
   "source": [
    "<h2>SPYPredictor</h2>\n",
    "Final Project Prototype Shuzo Katayama, 15 November 2020"
   ]
  },
  {
   "cell_type": "markdown",
   "metadata": {},
   "source": [
    "Description\n",
    "\n",
    "In this project, I hope to accomplish the task of predicting the price of the SPRD S&P 500 ETF (SPY), a popular exchange-traded fund that trakcs the performance of the S&P 500 market index. Specifically, I want to use a regression algorithm to train a model to predict the closing price of SPY on a particular day given (but not limited to) these factors: the GDP, the unemployment rate, and the federal funds rate, and the opening price of SPY. \n",
    "\n",
    "As a prototype, I plan to use these few indicators to predict the closing price of SPY, but I do not expect for it to work well because these indicators are not updated daily. Throughout the project, I plan to add more indicators and train more models to fine tune the models I train. I will, therefore, run this final project as a long experiment, essentially using a trial and error tactic to find the best model for this task. Ultimately, I hope to have a long Jupyter Notebook that tracks the progress of the different models I trained, and a shorter Juptyer Notebook just containing the final model.\n",
    "\n",
    "By predicting the price of SPY, I hope to accomplish the task of seeing which factors can best predict the movement of the S&P 500 index on a given day. This information can be used to better understand what affects the movement of the US market in general. Since SPY is a collection of a lot of the largest corporations in the US, seeing what data most accurately predicts the movement of SPY can generalise what kind of data moves the US stock market in general. "
   ]
  },
  {
   "cell_type": "markdown",
   "metadata": {},
   "source": [
    "Progress\n",
    "\n",
    "For this prototype, I created a very basic version of the final product. \n",
    "\n",
    "The project now needs more fine tuning to be complete. For the rest of the project, I will be adding more data to fine tune the regression model, while simultaneously testing different regression models (symbolic regression, random trees regression, and linear regression) to improve the model. Essentially, I plan to run the weeks leading up to the due date of the final project as a long trial and error experiment to see how well I can train the SPYPredictor. "
   ]
  },
  {
   "cell_type": "markdown",
   "metadata": {},
   "source": [
    "Data:\n",
    "\n",
    "SPY Prices: https://finance.yahoo.com/quote/SPY/history?period1=728265600&period2=1604966400&interval=1mo&filter=history&frequency=1mo&includeAdjustedClose=true \\\n",
    "GDP: https://fred.stlouisfed.org/series/GDP \\\n",
    "Unemployment: https://fred.stlouisfed.org/series/UNRATE \\\n",
    "Federal Funds Rate: https://fred.stlouisfed.org/series/FEDFUNDS "
   ]
  },
  {
   "cell_type": "code",
   "execution_count": 1,
   "metadata": {},
   "outputs": [],
   "source": [
    "from sklearn.preprocessing import StandardScaler\n",
    "from sklearn.model_selection import train_test_split\n",
    "from sklearn.metrics import r2_score\n",
    "from sklearn.metrics import mean_squared_error\n",
    "import numpy as np\n",
    "import pandas as pd"
   ]
  },
  {
   "cell_type": "markdown",
   "metadata": {},
   "source": [
    "Importing the data:\\\n",
    "All the data will come initially in a DataFrame with the name of the data followed by 'df'"
   ]
  },
  {
   "cell_type": "code",
   "execution_count": 2,
   "metadata": {},
   "outputs": [
    {
     "data": {
      "text/html": [
       "<div>\n",
       "<style scoped>\n",
       "    .dataframe tbody tr th:only-of-type {\n",
       "        vertical-align: middle;\n",
       "    }\n",
       "\n",
       "    .dataframe tbody tr th {\n",
       "        vertical-align: top;\n",
       "    }\n",
       "\n",
       "    .dataframe thead th {\n",
       "        text-align: right;\n",
       "    }\n",
       "</style>\n",
       "<table border=\"1\" class=\"dataframe\">\n",
       "  <thead>\n",
       "    <tr style=\"text-align: right;\">\n",
       "      <th></th>\n",
       "      <th>Date</th>\n",
       "      <th>Open</th>\n",
       "      <th>High</th>\n",
       "      <th>Low</th>\n",
       "      <th>Close</th>\n",
       "      <th>Adj Close</th>\n",
       "      <th>Volume</th>\n",
       "    </tr>\n",
       "  </thead>\n",
       "  <tbody>\n",
       "    <tr>\n",
       "      <th>0</th>\n",
       "      <td>1993-01-29</td>\n",
       "      <td>43.968750</td>\n",
       "      <td>43.968750</td>\n",
       "      <td>43.750000</td>\n",
       "      <td>43.937500</td>\n",
       "      <td>26.079659</td>\n",
       "      <td>1003200</td>\n",
       "    </tr>\n",
       "    <tr>\n",
       "      <th>1</th>\n",
       "      <td>1993-02-01</td>\n",
       "      <td>43.968750</td>\n",
       "      <td>44.250000</td>\n",
       "      <td>43.968750</td>\n",
       "      <td>44.250000</td>\n",
       "      <td>26.265144</td>\n",
       "      <td>480500</td>\n",
       "    </tr>\n",
       "    <tr>\n",
       "      <th>2</th>\n",
       "      <td>1993-02-02</td>\n",
       "      <td>44.218750</td>\n",
       "      <td>44.375000</td>\n",
       "      <td>44.125000</td>\n",
       "      <td>44.343750</td>\n",
       "      <td>26.320782</td>\n",
       "      <td>201300</td>\n",
       "    </tr>\n",
       "    <tr>\n",
       "      <th>3</th>\n",
       "      <td>1993-02-03</td>\n",
       "      <td>44.406250</td>\n",
       "      <td>44.843750</td>\n",
       "      <td>44.375000</td>\n",
       "      <td>44.812500</td>\n",
       "      <td>26.599014</td>\n",
       "      <td>529400</td>\n",
       "    </tr>\n",
       "    <tr>\n",
       "      <th>4</th>\n",
       "      <td>1993-02-04</td>\n",
       "      <td>44.968750</td>\n",
       "      <td>45.093750</td>\n",
       "      <td>44.468750</td>\n",
       "      <td>45.000000</td>\n",
       "      <td>26.710312</td>\n",
       "      <td>531500</td>\n",
       "    </tr>\n",
       "    <tr>\n",
       "      <th>...</th>\n",
       "      <td>...</td>\n",
       "      <td>...</td>\n",
       "      <td>...</td>\n",
       "      <td>...</td>\n",
       "      <td>...</td>\n",
       "      <td>...</td>\n",
       "      <td>...</td>\n",
       "    </tr>\n",
       "    <tr>\n",
       "      <th>6992</th>\n",
       "      <td>2020-11-03</td>\n",
       "      <td>333.690002</td>\n",
       "      <td>338.250000</td>\n",
       "      <td>330.290009</td>\n",
       "      <td>336.029999</td>\n",
       "      <td>336.029999</td>\n",
       "      <td>93294200</td>\n",
       "    </tr>\n",
       "    <tr>\n",
       "      <th>6993</th>\n",
       "      <td>2020-11-04</td>\n",
       "      <td>340.859985</td>\n",
       "      <td>347.940002</td>\n",
       "      <td>339.589996</td>\n",
       "      <td>343.540009</td>\n",
       "      <td>343.540009</td>\n",
       "      <td>126959700</td>\n",
       "    </tr>\n",
       "    <tr>\n",
       "      <th>6994</th>\n",
       "      <td>2020-11-05</td>\n",
       "      <td>349.239990</td>\n",
       "      <td>352.190002</td>\n",
       "      <td>348.859985</td>\n",
       "      <td>350.239990</td>\n",
       "      <td>350.239990</td>\n",
       "      <td>82039700</td>\n",
       "    </tr>\n",
       "    <tr>\n",
       "      <th>6995</th>\n",
       "      <td>2020-11-06</td>\n",
       "      <td>349.929993</td>\n",
       "      <td>351.510010</td>\n",
       "      <td>347.649994</td>\n",
       "      <td>350.160004</td>\n",
       "      <td>350.160004</td>\n",
       "      <td>74973000</td>\n",
       "    </tr>\n",
       "    <tr>\n",
       "      <th>6996</th>\n",
       "      <td>2020-11-09</td>\n",
       "      <td>363.970001</td>\n",
       "      <td>364.380005</td>\n",
       "      <td>354.059998</td>\n",
       "      <td>354.559998</td>\n",
       "      <td>354.559998</td>\n",
       "      <td>171760300</td>\n",
       "    </tr>\n",
       "  </tbody>\n",
       "</table>\n",
       "<p>6997 rows × 7 columns</p>\n",
       "</div>"
      ],
      "text/plain": [
       "            Date        Open        High         Low       Close   Adj Close  \\\n",
       "0     1993-01-29   43.968750   43.968750   43.750000   43.937500   26.079659   \n",
       "1     1993-02-01   43.968750   44.250000   43.968750   44.250000   26.265144   \n",
       "2     1993-02-02   44.218750   44.375000   44.125000   44.343750   26.320782   \n",
       "3     1993-02-03   44.406250   44.843750   44.375000   44.812500   26.599014   \n",
       "4     1993-02-04   44.968750   45.093750   44.468750   45.000000   26.710312   \n",
       "...          ...         ...         ...         ...         ...         ...   \n",
       "6992  2020-11-03  333.690002  338.250000  330.290009  336.029999  336.029999   \n",
       "6993  2020-11-04  340.859985  347.940002  339.589996  343.540009  343.540009   \n",
       "6994  2020-11-05  349.239990  352.190002  348.859985  350.239990  350.239990   \n",
       "6995  2020-11-06  349.929993  351.510010  347.649994  350.160004  350.160004   \n",
       "6996  2020-11-09  363.970001  364.380005  354.059998  354.559998  354.559998   \n",
       "\n",
       "         Volume  \n",
       "0       1003200  \n",
       "1        480500  \n",
       "2        201300  \n",
       "3        529400  \n",
       "4        531500  \n",
       "...         ...  \n",
       "6992   93294200  \n",
       "6993  126959700  \n",
       "6994   82039700  \n",
       "6995   74973000  \n",
       "6996  171760300  \n",
       "\n",
       "[6997 rows x 7 columns]"
      ]
     },
     "execution_count": 2,
     "metadata": {},
     "output_type": "execute_result"
    }
   ],
   "source": [
    "# Daily prices of SPY\n",
    "SPYdf = pd.read_csv('SPYDaily.csv')\n",
    "SPYdf"
   ]
  },
  {
   "cell_type": "code",
   "execution_count": 3,
   "metadata": {},
   "outputs": [
    {
     "data": {
      "text/html": [
       "<div>\n",
       "<style scoped>\n",
       "    .dataframe tbody tr th:only-of-type {\n",
       "        vertical-align: middle;\n",
       "    }\n",
       "\n",
       "    .dataframe tbody tr th {\n",
       "        vertical-align: top;\n",
       "    }\n",
       "\n",
       "    .dataframe thead th {\n",
       "        text-align: right;\n",
       "    }\n",
       "</style>\n",
       "<table border=\"1\" class=\"dataframe\">\n",
       "  <thead>\n",
       "    <tr style=\"text-align: right;\">\n",
       "      <th></th>\n",
       "      <th>DATE</th>\n",
       "      <th>GDP</th>\n",
       "    </tr>\n",
       "  </thead>\n",
       "  <tbody>\n",
       "    <tr>\n",
       "      <th>0</th>\n",
       "      <td>1993-01-01</td>\n",
       "      <td>6729.459</td>\n",
       "    </tr>\n",
       "    <tr>\n",
       "      <th>1</th>\n",
       "      <td>1993-04-01</td>\n",
       "      <td>6808.939</td>\n",
       "    </tr>\n",
       "    <tr>\n",
       "      <th>2</th>\n",
       "      <td>1993-07-01</td>\n",
       "      <td>6882.098</td>\n",
       "    </tr>\n",
       "    <tr>\n",
       "      <th>3</th>\n",
       "      <td>1993-10-01</td>\n",
       "      <td>7013.738</td>\n",
       "    </tr>\n",
       "    <tr>\n",
       "      <th>4</th>\n",
       "      <td>1994-01-01</td>\n",
       "      <td>7115.652</td>\n",
       "    </tr>\n",
       "    <tr>\n",
       "      <th>...</th>\n",
       "      <td>...</td>\n",
       "      <td>...</td>\n",
       "    </tr>\n",
       "    <tr>\n",
       "      <th>106</th>\n",
       "      <td>2019-07-01</td>\n",
       "      <td>21540.325</td>\n",
       "    </tr>\n",
       "    <tr>\n",
       "      <th>107</th>\n",
       "      <td>2019-10-01</td>\n",
       "      <td>21747.394</td>\n",
       "    </tr>\n",
       "    <tr>\n",
       "      <th>108</th>\n",
       "      <td>2020-01-01</td>\n",
       "      <td>21561.139</td>\n",
       "    </tr>\n",
       "    <tr>\n",
       "      <th>109</th>\n",
       "      <td>2020-04-01</td>\n",
       "      <td>19520.114</td>\n",
       "    </tr>\n",
       "    <tr>\n",
       "      <th>110</th>\n",
       "      <td>2020-07-01</td>\n",
       "      <td>21157.635</td>\n",
       "    </tr>\n",
       "  </tbody>\n",
       "</table>\n",
       "<p>111 rows × 2 columns</p>\n",
       "</div>"
      ],
      "text/plain": [
       "           DATE        GDP\n",
       "0    1993-01-01   6729.459\n",
       "1    1993-04-01   6808.939\n",
       "2    1993-07-01   6882.098\n",
       "3    1993-10-01   7013.738\n",
       "4    1994-01-01   7115.652\n",
       "..          ...        ...\n",
       "106  2019-07-01  21540.325\n",
       "107  2019-10-01  21747.394\n",
       "108  2020-01-01  21561.139\n",
       "109  2020-04-01  19520.114\n",
       "110  2020-07-01  21157.635\n",
       "\n",
       "[111 rows x 2 columns]"
      ]
     },
     "execution_count": 3,
     "metadata": {},
     "output_type": "execute_result"
    }
   ],
   "source": [
    "GDPdf = pd.read_csv('GDPQuarterly.csv')\n",
    "GDPdf"
   ]
  },
  {
   "cell_type": "code",
   "execution_count": 4,
   "metadata": {},
   "outputs": [
    {
     "data": {
      "text/html": [
       "<div>\n",
       "<style scoped>\n",
       "    .dataframe tbody tr th:only-of-type {\n",
       "        vertical-align: middle;\n",
       "    }\n",
       "\n",
       "    .dataframe tbody tr th {\n",
       "        vertical-align: top;\n",
       "    }\n",
       "\n",
       "    .dataframe thead th {\n",
       "        text-align: right;\n",
       "    }\n",
       "</style>\n",
       "<table border=\"1\" class=\"dataframe\">\n",
       "  <thead>\n",
       "    <tr style=\"text-align: right;\">\n",
       "      <th></th>\n",
       "      <th>DATE</th>\n",
       "      <th>UNRATE</th>\n",
       "    </tr>\n",
       "  </thead>\n",
       "  <tbody>\n",
       "    <tr>\n",
       "      <th>0</th>\n",
       "      <td>1993-01-01</td>\n",
       "      <td>7.3</td>\n",
       "    </tr>\n",
       "    <tr>\n",
       "      <th>1</th>\n",
       "      <td>1993-02-01</td>\n",
       "      <td>7.1</td>\n",
       "    </tr>\n",
       "    <tr>\n",
       "      <th>2</th>\n",
       "      <td>1993-03-01</td>\n",
       "      <td>7.0</td>\n",
       "    </tr>\n",
       "    <tr>\n",
       "      <th>3</th>\n",
       "      <td>1993-04-01</td>\n",
       "      <td>7.1</td>\n",
       "    </tr>\n",
       "    <tr>\n",
       "      <th>4</th>\n",
       "      <td>1993-05-01</td>\n",
       "      <td>7.1</td>\n",
       "    </tr>\n",
       "    <tr>\n",
       "      <th>...</th>\n",
       "      <td>...</td>\n",
       "      <td>...</td>\n",
       "    </tr>\n",
       "    <tr>\n",
       "      <th>329</th>\n",
       "      <td>2020-06-01</td>\n",
       "      <td>11.1</td>\n",
       "    </tr>\n",
       "    <tr>\n",
       "      <th>330</th>\n",
       "      <td>2020-07-01</td>\n",
       "      <td>10.2</td>\n",
       "    </tr>\n",
       "    <tr>\n",
       "      <th>331</th>\n",
       "      <td>2020-08-01</td>\n",
       "      <td>8.4</td>\n",
       "    </tr>\n",
       "    <tr>\n",
       "      <th>332</th>\n",
       "      <td>2020-09-01</td>\n",
       "      <td>7.9</td>\n",
       "    </tr>\n",
       "    <tr>\n",
       "      <th>333</th>\n",
       "      <td>2020-10-01</td>\n",
       "      <td>6.9</td>\n",
       "    </tr>\n",
       "  </tbody>\n",
       "</table>\n",
       "<p>334 rows × 2 columns</p>\n",
       "</div>"
      ],
      "text/plain": [
       "           DATE  UNRATE\n",
       "0    1993-01-01     7.3\n",
       "1    1993-02-01     7.1\n",
       "2    1993-03-01     7.0\n",
       "3    1993-04-01     7.1\n",
       "4    1993-05-01     7.1\n",
       "..          ...     ...\n",
       "329  2020-06-01    11.1\n",
       "330  2020-07-01    10.2\n",
       "331  2020-08-01     8.4\n",
       "332  2020-09-01     7.9\n",
       "333  2020-10-01     6.9\n",
       "\n",
       "[334 rows x 2 columns]"
      ]
     },
     "execution_count": 4,
     "metadata": {},
     "output_type": "execute_result"
    }
   ],
   "source": [
    "Unemploymentdf = pd.read_csv('UnemploymentMonthly.csv')\n",
    "Unemploymentdf['UNRATE'].astype('float')\n",
    "Unemploymentdf"
   ]
  },
  {
   "cell_type": "code",
   "execution_count": 5,
   "metadata": {},
   "outputs": [
    {
     "data": {
      "text/html": [
       "<div>\n",
       "<style scoped>\n",
       "    .dataframe tbody tr th:only-of-type {\n",
       "        vertical-align: middle;\n",
       "    }\n",
       "\n",
       "    .dataframe tbody tr th {\n",
       "        vertical-align: top;\n",
       "    }\n",
       "\n",
       "    .dataframe thead th {\n",
       "        text-align: right;\n",
       "    }\n",
       "</style>\n",
       "<table border=\"1\" class=\"dataframe\">\n",
       "  <thead>\n",
       "    <tr style=\"text-align: right;\">\n",
       "      <th></th>\n",
       "      <th>DATE</th>\n",
       "      <th>FEDFUNDS</th>\n",
       "    </tr>\n",
       "  </thead>\n",
       "  <tbody>\n",
       "    <tr>\n",
       "      <th>0</th>\n",
       "      <td>1993-01-01</td>\n",
       "      <td>3.02</td>\n",
       "    </tr>\n",
       "    <tr>\n",
       "      <th>1</th>\n",
       "      <td>1993-02-01</td>\n",
       "      <td>3.03</td>\n",
       "    </tr>\n",
       "    <tr>\n",
       "      <th>2</th>\n",
       "      <td>1993-03-01</td>\n",
       "      <td>3.07</td>\n",
       "    </tr>\n",
       "    <tr>\n",
       "      <th>3</th>\n",
       "      <td>1993-04-01</td>\n",
       "      <td>2.96</td>\n",
       "    </tr>\n",
       "    <tr>\n",
       "      <th>4</th>\n",
       "      <td>1993-05-01</td>\n",
       "      <td>3.00</td>\n",
       "    </tr>\n",
       "    <tr>\n",
       "      <th>...</th>\n",
       "      <td>...</td>\n",
       "      <td>...</td>\n",
       "    </tr>\n",
       "    <tr>\n",
       "      <th>329</th>\n",
       "      <td>2020-06-01</td>\n",
       "      <td>0.08</td>\n",
       "    </tr>\n",
       "    <tr>\n",
       "      <th>330</th>\n",
       "      <td>2020-07-01</td>\n",
       "      <td>0.09</td>\n",
       "    </tr>\n",
       "    <tr>\n",
       "      <th>331</th>\n",
       "      <td>2020-08-01</td>\n",
       "      <td>0.10</td>\n",
       "    </tr>\n",
       "    <tr>\n",
       "      <th>332</th>\n",
       "      <td>2020-09-01</td>\n",
       "      <td>0.09</td>\n",
       "    </tr>\n",
       "    <tr>\n",
       "      <th>333</th>\n",
       "      <td>2020-10-01</td>\n",
       "      <td>0.09</td>\n",
       "    </tr>\n",
       "  </tbody>\n",
       "</table>\n",
       "<p>334 rows × 2 columns</p>\n",
       "</div>"
      ],
      "text/plain": [
       "           DATE  FEDFUNDS\n",
       "0    1993-01-01      3.02\n",
       "1    1993-02-01      3.03\n",
       "2    1993-03-01      3.07\n",
       "3    1993-04-01      2.96\n",
       "4    1993-05-01      3.00\n",
       "..          ...       ...\n",
       "329  2020-06-01      0.08\n",
       "330  2020-07-01      0.09\n",
       "331  2020-08-01      0.10\n",
       "332  2020-09-01      0.09\n",
       "333  2020-10-01      0.09\n",
       "\n",
       "[334 rows x 2 columns]"
      ]
     },
     "execution_count": 5,
     "metadata": {},
     "output_type": "execute_result"
    }
   ],
   "source": [
    "FedFundspd = pd.read_csv('Fedfunds.csv')\n",
    "FedFundspd"
   ]
  },
  {
   "cell_type": "markdown",
   "metadata": {},
   "source": [
    "Splitting Data into X and y"
   ]
  },
  {
   "cell_type": "code",
   "execution_count": 6,
   "metadata": {},
   "outputs": [],
   "source": [
    "# Training targets are the closing prices of SPY\n",
    "y = SPYdf.to_numpy()\n",
    "y = y[:, 4]"
   ]
  },
  {
   "cell_type": "code",
   "execution_count": 7,
   "metadata": {},
   "outputs": [],
   "source": [
    "# Initialise Xdf as initially having 5 columns and the number of rows in SPYdf\n",
    "c = 4\n",
    "r = len(SPYdf)\n",
    "\n",
    "a = SPYdf.to_numpy()\n",
    "X = np.empty((r,c))\n",
    "\n",
    "# Keep a separate array of the dates\n",
    "Xdate = SPYdf.to_numpy()\n",
    "Xdate = Xdate[:,0]"
   ]
  },
  {
   "cell_type": "markdown",
   "metadata": {},
   "source": [
    "For the training data, the following columns in the array X will contain the following data:\\\n",
    "0: Opening price\\\n",
    "1: GDP\\\n",
    "2: Unemployment\\\n",
    "3: Federal Funds Rate"
   ]
  },
  {
   "cell_type": "code",
   "execution_count": 8,
   "metadata": {},
   "outputs": [],
   "source": [
    "# Copy into column 0 in X, the opening price from a\n",
    "counter = 0\n",
    "for item in a:\n",
    "    X[counter, 0] = item[1]\n",
    "    counter = counter+1"
   ]
  },
  {
   "cell_type": "code",
   "execution_count": 9,
   "metadata": {},
   "outputs": [
    {
     "data": {
      "text/plain": [
       "array([[   43.96875 , 21157.635   ,     0.      ,     0.      ],\n",
       "       [   43.96875 , 21157.635   ,     0.      ,     0.      ],\n",
       "       [   44.21875 , 21157.635   ,     0.      ,     0.      ],\n",
       "       ...,\n",
       "       [  349.23999 , 21561.139   ,     0.      ,     0.      ],\n",
       "       [  349.929993, 21561.139   ,     0.      ,     0.      ],\n",
       "       [  363.970001, 21561.139   ,     0.      ,     0.      ]])"
      ]
     },
     "execution_count": 9,
     "metadata": {},
     "output_type": "execute_result"
    }
   ],
   "source": [
    "# Copy in to column 1, the GDP\n",
    "# GDP is calculated quarterly, and SPY is daily; writing GDP value every day in the quarter in X\n",
    "g = GDPdf.to_numpy()\n",
    "counter = r-1\n",
    "gdpcounter = (len(g)-1)\n",
    "for item in X:\n",
    "    if g[gdpcounter,0] == Xdate[counter]:\n",
    "        gdpcounter = gdpcounter - 1\n",
    "    \n",
    "    item[1] = g[gdpcounter, 1]\n",
    "    counter = counter - 1\n",
    "    \n",
    "X"
   ]
  },
  {
   "cell_type": "code",
   "execution_count": 10,
   "metadata": {},
   "outputs": [
    {
     "data": {
      "text/plain": [
       "array([[   43.96875 , 21157.635   ,     6.9     ,     0.      ],\n",
       "       [   43.96875 , 21157.635   ,     6.9     ,     0.      ],\n",
       "       [   44.21875 , 21157.635   ,     6.9     ,     0.      ],\n",
       "       ...,\n",
       "       [  349.23999 , 21561.139   ,     8.4     ,     0.      ],\n",
       "       [  349.929993, 21561.139   ,     8.4     ,     0.      ],\n",
       "       [  363.970001, 21561.139   ,     8.4     ,     0.      ]])"
      ]
     },
     "execution_count": 10,
     "metadata": {},
     "output_type": "execute_result"
    }
   ],
   "source": [
    "# Copy into column 2, the Unemployment\n",
    "# Unemployment is calculated monthly; writing Unemployment every day in the month in X\n",
    "u = Unemploymentdf.to_numpy()\n",
    "counter = r-1\n",
    "ucounter = (len(u)-1)\n",
    "for item in X:\n",
    "    if u[ucounter, 0] == Xdate[counter]:\n",
    "        ucounter = ucounter - 1\n",
    "        \n",
    "    item[2] = u[ucounter, 1]\n",
    "    counter = counter - 1\n",
    "\n",
    "np.set_printoptions(suppress=True)\n",
    "X"
   ]
  },
  {
   "cell_type": "code",
   "execution_count": 11,
   "metadata": {},
   "outputs": [
    {
     "data": {
      "text/plain": [
       "array([[   43.96875 , 21157.635   ,     6.9     ,     0.09    ],\n",
       "       [   43.96875 , 21157.635   ,     6.9     ,     0.09    ],\n",
       "       [   44.21875 , 21157.635   ,     6.9     ,     0.09    ],\n",
       "       ...,\n",
       "       [  349.23999 , 21561.139   ,     8.4     ,     0.1     ],\n",
       "       [  349.929993, 21561.139   ,     8.4     ,     0.1     ],\n",
       "       [  363.970001, 21561.139   ,     8.4     ,     0.1     ]])"
      ]
     },
     "execution_count": 11,
     "metadata": {},
     "output_type": "execute_result"
    }
   ],
   "source": [
    "# Copy into column 3, the Federal Funds Rate\n",
    "# Federal Funds Rate is calculated monthly;\n",
    "f = FedFundspd.to_numpy()\n",
    "counter = r-1\n",
    "fcounter = (len(f)-1)\n",
    "for item in X:\n",
    "    if f[fcounter, 0] == Xdate[counter]:\n",
    "        fcounter = fcounter - 1\n",
    "        \n",
    "    item[3] = f[fcounter, 1]\n",
    "    counter = counter - 1\n",
    "    \n",
    "X"
   ]
  },
  {
   "cell_type": "markdown",
   "metadata": {},
   "source": [
    "Splitting data into training and testing sets using train_test_split"
   ]
  },
  {
   "cell_type": "code",
   "execution_count": 12,
   "metadata": {},
   "outputs": [],
   "source": [
    "# Splitting into training and testing sets\n",
    "X_train, X_test, y_train, y_test = train_test_split(X, y, test_size=0.4, random_state=1)"
   ]
  },
  {
   "cell_type": "code",
   "execution_count": 13,
   "metadata": {},
   "outputs": [
    {
     "data": {
      "text/plain": [
       "'\\nsc = StandardScaler()\\nsc.fit(X_train)\\nX_train_std = sc.transform(X_train)\\nX_test_std = sc.transform(X_test)\\n\\nsc_y = StandardScaler()\\nsc.fit(y_train[:, np.newaxis])\\ny_train_std = sc.transform(y_train[:, np.newaxis]).flatten()\\ny_test_std = sc.transform(y_test[:, np.newaxis]).flatten() \\n'"
      ]
     },
     "execution_count": 13,
     "metadata": {},
     "output_type": "execute_result"
    }
   ],
   "source": [
    "'''\n",
    "sc = StandardScaler()\n",
    "sc.fit(X_train)\n",
    "X_train_std = sc.transform(X_train)\n",
    "X_test_std = sc.transform(X_test)\n",
    "\n",
    "sc_y = StandardScaler()\n",
    "sc.fit(y_train[:, np.newaxis])\n",
    "y_train_std = sc.transform(y_train[:, np.newaxis]).flatten()\n",
    "y_test_std = sc.transform(y_test[:, np.newaxis]).flatten() \n",
    "'''"
   ]
  },
  {
   "cell_type": "markdown",
   "metadata": {},
   "source": [
    "To keep track of my progress, I'm going to name each model a two letter abbreviation of the model type followed by a number"
   ]
  },
  {
   "cell_type": "markdown",
   "metadata": {},
   "source": [
    "Model RF0: Training the Random Forest Regressor, from sci-kit learn"
   ]
  },
  {
   "cell_type": "code",
   "execution_count": 14,
   "metadata": {},
   "outputs": [],
   "source": [
    "from sklearn.ensemble import RandomForestRegressor"
   ]
  },
  {
   "cell_type": "code",
   "execution_count": 15,
   "metadata": {},
   "outputs": [
    {
     "data": {
      "text/plain": [
       "RandomForestRegressor(n_estimators=1000, n_jobs=-1, random_state=1)"
      ]
     },
     "execution_count": 15,
     "metadata": {},
     "output_type": "execute_result"
    }
   ],
   "source": [
    "est = RandomForestRegressor(n_estimators=1000, criterion='mse', random_state=1, n_jobs=-1)\n",
    "est.fit(X_train, y_train)\n",
    "# est.fit(X_train_std, y_train_std)"
   ]
  },
  {
   "cell_type": "code",
   "execution_count": 16,
   "metadata": {},
   "outputs": [
    {
     "name": "stdout",
     "output_type": "stream",
     "text": [
      "MSE train: 0.521, test: 2.904\n",
      "R^2 train: 1.000, test: 0.999\n"
     ]
    }
   ],
   "source": [
    "y_train_pred = est.predict(X_train)\n",
    "y_test_pred = est.predict(X_test)\n",
    "\n",
    "print('MSE train: %.3f, test: %.3f' % (\n",
    "        mean_squared_error(y_train, y_train_pred),\n",
    "        mean_squared_error(y_test, y_test_pred)))\n",
    "        # mean_squared_error(y_train_std, y_train_pred),\n",
    "        # mean_squared_error(y_test_std, y_test_pred)))\n",
    "print('R^2 train: %.3f, test: %.3f' % (\n",
    "        r2_score(y_train, y_train_pred),\n",
    "        r2_score(y_test, y_test_pred)))\n",
    "        # r2_score(y_train_std, y_train_pred),\n",
    "        # r2_score(y_test_std, y_test_pred)))"
   ]
  },
  {
   "cell_type": "markdown",
   "metadata": {},
   "source": [
    "Model SR0: Training the Symbolic Regressor model, from gp learn"
   ]
  },
  {
   "cell_type": "code",
   "execution_count": 17,
   "metadata": {},
   "outputs": [],
   "source": [
    "from gplearn.genetic import SymbolicRegressor"
   ]
  },
  {
   "cell_type": "code",
   "execution_count": 18,
   "metadata": {},
   "outputs": [
    {
     "name": "stdout",
     "output_type": "stream",
     "text": [
      "    |   Population Average    |             Best Individual              |\n",
      "---- ------------------------- ------------------------------------------ ----------\n",
      " Gen   Length          Fitness   Length          Fitness      OOB Fitness  Time Left\n",
      "   0    14.96      1.18179e+10        3         0.894873              N/A      1.21m\n",
      "   1    14.79           103822       35         0.894873              N/A      1.12m\n",
      "   2    17.58           473541        2         0.894873              N/A      1.20m\n",
      "   3    20.95           7439.1       11         0.894385              N/A      1.16m\n",
      "   4    22.06          8278.99        5         0.894208              N/A      1.25m\n",
      "   5    19.78          569.126        5         0.894208              N/A      1.21m\n",
      "   6    11.39          38356.1       20         0.894068              N/A     57.30s\n",
      "   7     5.57          50228.4       14         0.894385              N/A     53.34s\n",
      "   8     3.36          39085.1        5         0.894385              N/A     50.10s\n",
      "   9     3.06           929110        5         0.894385              N/A     47.48s\n",
      "  10     3.18           4180.8        6         0.894001              N/A     47.58s\n",
      "  11     3.45           933470        6         0.894001              N/A     48.53s\n",
      "  12     4.12          39303.2        6         0.894001              N/A     48.59s\n",
      "  13     4.81            15880        6         0.894001              N/A     47.86s\n",
      "  14     5.22          40741.6       10         0.893869              N/A     50.36s\n",
      "  15     5.56          1165.17        6         0.893862              N/A     50.85s\n",
      "  16     5.65          1075.78        6         0.893862              N/A     48.26s\n",
      "  17     5.98           471149        6         0.893862              N/A     45.27s\n",
      "  18     6.14      4.62941e+06        6         0.893862              N/A     45.31s\n",
      "  19     6.25           470802       17         0.893859              N/A     45.32s\n",
      "  20     6.11           223896       17         0.893859              N/A     47.36s\n",
      "  21     6.00          7792.43        7         0.893862              N/A     47.18s\n",
      "  22     5.94      1.39259e+06        6         0.893862              N/A     52.07s\n",
      "  23     5.46          2044.69        7         0.893862              N/A     44.19s\n",
      "  24     5.34           600619        5         0.893862              N/A     43.53s\n",
      "  25     5.09      4.64628e+06        6         0.893862              N/A     40.81s\n",
      "  26     4.73      4.64664e+06        5         0.893861              N/A     42.92s\n",
      "  27     4.44           940927        5         0.893862              N/A     40.29s\n",
      "  28     4.23          16268.2        5         0.893862              N/A     37.72s\n",
      "  29     4.03           465194        5         0.893862              N/A     37.07s\n",
      "  30     4.07          4174.57        5         0.893862              N/A     37.85s\n",
      "  31     4.14           939365        5         0.893945              N/A     37.75s\n",
      "  32     4.14          3046.84        7         0.893929              N/A     36.59s\n",
      "  33     4.11          4236.48        7         0.893929              N/A     38.80s\n",
      "  34     4.16          11377.2        5         0.893949              N/A     35.66s\n",
      "  35     4.07           217846        5         0.893949              N/A     36.42s\n",
      "  36     3.92           468141        5         0.893861              N/A     36.44s\n",
      "  37     3.81           935188        5         0.893949              N/A     36.33s\n",
      "  38     3.87           465192        5         0.893949              N/A     36.20s\n",
      "  39     4.02           473836        5         0.893875              N/A     34.11s\n",
      "  40     3.95           480543        5         0.893949              N/A     32.39s\n",
      "  41     3.97          33597.3        5         0.893949              N/A     35.12s\n",
      "  42     3.96           928961        3         0.893933              N/A     34.56s\n",
      "  43     3.98           930266        3         0.893933              N/A     30.97s\n",
      "  44     3.96           984117        3         0.893933              N/A     29.57s\n",
      "  45     3.96          33562.3        3         0.893933              N/A     37.11s\n",
      "  46     3.89          5650.69        3         0.893933              N/A     31.19s\n",
      "  47     3.93          12180.5        3         0.893933              N/A     31.02s\n",
      "  48     4.04           542607        3         0.893933              N/A     30.09s\n",
      "  49     4.07      1.39649e+06        3         0.893933              N/A     29.15s\n",
      "  50     3.90           471952        3         0.893933              N/A     29.98s\n",
      "  51     3.99      2.26411e+06        3         0.893933              N/A     28.24s\n",
      "  52     4.08      5.60857e+06        3         0.893933              N/A     28.05s\n",
      "  53     4.07          7292.83        5         0.893907              N/A     27.30s\n",
      "  54     3.90       4.4085e+06        3         0.893933              N/A     25.43s\n",
      "  55     3.94          1316.72        3         0.893933              N/A     26.72s\n",
      "  56     3.90           469655        3         0.893933              N/A     24.57s\n",
      "  57     3.93           461937        3         0.893933              N/A     25.70s\n",
      "  58     4.12          4949.29        3         0.893933              N/A     26.70s\n",
      "  59     4.07          65134.7        3         0.893933              N/A     26.01s\n",
      "  60     3.91          5629.38        3         0.893933              N/A     29.74s\n",
      "  61     3.99           468241        3         0.893933              N/A     23.92s\n",
      "  62     3.98      1.40246e+06        3         0.893933              N/A     23.99s\n",
      "  63     3.97           471883        3         0.893933              N/A     22.62s\n",
      "  64     3.94      9.24052e+06        3         0.893933              N/A     21.97s\n",
      "  65     3.89           473075        3         0.893933              N/A     25.35s\n",
      "  66     3.89           472305        3         0.893933              N/A     21.15s\n",
      "  67     3.90          44549.9        3         0.893933              N/A     20.94s\n",
      "  68     4.00           468484        3         0.893933              N/A     21.16s\n",
      "  69     3.79          8910.69        3         0.893933              N/A     19.21s\n",
      "  70     4.06      7.33987e+09        3         0.893933              N/A     20.38s\n",
      "  71     4.04           464870        3         0.893933              N/A     18.43s\n",
      "  72     3.82            10330        3         0.893933              N/A     17.01s\n",
      "  73     3.93           931.68        3         0.893933              N/A     19.03s\n",
      "  74     4.04           467619        3         0.893933              N/A     16.69s\n",
      "  75     4.10          27320.5        3         0.893933              N/A     16.38s\n",
      "  76     3.86          39581.8        3         0.893933              N/A     14.64s\n",
      "  77     3.86      3.89429e+06        3         0.893933              N/A     13.10s\n",
      "  78     3.99          1881.71        3         0.893933              N/A     14.09s\n",
      "  79     4.27           468262        3         0.893866              N/A     13.37s\n",
      "  80     4.12           928901        3         0.893866              N/A     13.37s\n",
      "  81     3.83           472909        3         0.893861              N/A     11.53s\n",
      "  82     3.92           447394        3         0.893861              N/A     11.14s\n",
      "  83     4.14          49858.7        3         0.893861              N/A     11.21s\n",
      "  84     4.01          7998.31        7         0.893859              N/A     10.59s\n",
      "  85     3.89          66142.4        3         0.893861              N/A      8.87s\n",
      "  86     3.88          7515.81        3         0.893861              N/A      7.66s\n",
      "  87     4.01           464770        3         0.893861              N/A      7.14s\n",
      "  88     3.95           468387        3         0.893861              N/A      6.25s\n",
      "  89     3.97           471289        3         0.893861              N/A      5.93s\n",
      "  90     3.81          3122.67        3         0.893861              N/A      5.13s\n",
      "  91     3.98           328853        3         0.893861              N/A      4.96s\n",
      "  92     3.94      1.17204e+06        3         0.893861              N/A      4.06s\n",
      "  93     3.88          5011.32        3         0.893861              N/A      3.61s\n",
      "  94     3.96      1.30181e+06        3         0.893861              N/A      2.96s\n",
      "  95     3.98           476898        3         0.893861              N/A      2.35s\n",
      "  96     3.82      1.85958e+06        3         0.893861              N/A      1.78s\n",
      "  97     3.85      1.10753e+06        3         0.893861              N/A      1.18s\n",
      "  98     3.91          4758.09        3         0.893861              N/A      0.61s\n",
      "  99     3.92          1183.78        3         0.893861              N/A      0.00s\n"
     ]
    },
    {
     "data": {
      "text/plain": [
       "SymbolicRegressor(function_set=('add', 'sub', 'mul', 'div', 'sqrt', 'log',\n",
       "                                'abs', 'neg', 'inv', 'max', 'min', 'sin', 'cos',\n",
       "                                'tan'),\n",
       "                  generations=100, init_depth=(4, 6), p_crossover=0.3,\n",
       "                  p_hoist_mutation=0.0, p_point_mutation=0.35,\n",
       "                  p_subtree_mutation=0.35, parsimony_coefficient=0.0001,\n",
       "                  random_state=0, stopping_criteria=0.01, tournament_size=5,\n",
       "                  verbose=1)"
      ]
     },
     "execution_count": 18,
     "metadata": {},
     "output_type": "execute_result"
    }
   ],
   "source": [
    "est = SymbolicRegressor(population_size=1000,\n",
    "                        init_depth=(4,6),\n",
    "                        generations=100, stopping_criteria=0.01,\n",
    "                        p_crossover=0.3, p_subtree_mutation=0.35,\n",
    "                        p_hoist_mutation=0.0, p_point_mutation=0.35,\n",
    "                        max_samples=1.0, verbose=1,\n",
    "                        #const_range=None,\n",
    "                        const_range=(-1.0,1.0),\n",
    "                        tournament_size=5,\n",
    "                        function_set=('add', 'sub', 'mul', 'div', 'sqrt', 'log', \n",
    "                                      'abs', 'neg', 'inv', 'max','min', 'sin', 'cos', 'tan'),\n",
    "                        parsimony_coefficient=0.0001, random_state=0)\n",
    "est.fit(X_train, y_train)"
   ]
  },
  {
   "cell_type": "markdown",
   "metadata": {},
   "source": [
    "Model LR0: Training the Linear Regression model with default settings"
   ]
  },
  {
   "cell_type": "code",
   "execution_count": 19,
   "metadata": {},
   "outputs": [],
   "source": [
    "from sklearn.linear_model import LinearRegression"
   ]
  },
  {
   "cell_type": "code",
   "execution_count": 20,
   "metadata": {},
   "outputs": [
    {
     "data": {
      "text/plain": [
       "LinearRegression()"
      ]
     },
     "execution_count": 20,
     "metadata": {},
     "output_type": "execute_result"
    }
   ],
   "source": [
    "est = LinearRegression()\n",
    "est.fit(X_train, y_train)"
   ]
  },
  {
   "cell_type": "code",
   "execution_count": 21,
   "metadata": {},
   "outputs": [
    {
     "name": "stdout",
     "output_type": "stream",
     "text": [
      "MSE train: 1.955, test: 1.933\n",
      "R^2 train: 1.000, test: 1.000\n"
     ]
    }
   ],
   "source": [
    "y_train_pred = est.predict(X_train)\n",
    "y_test_pred = est.predict(X_test)\n",
    "\n",
    "print('MSE train: %.3f, test: %.3f' % (\n",
    "        mean_squared_error(y_train, y_train_pred),\n",
    "        mean_squared_error(y_test, y_test_pred)))\n",
    "        # mean_squared_error(y_train_std, y_train_pred),\n",
    "        # mean_squared_error(y_test_std, y_test_pred)))\n",
    "print('R^2 train: %.3f, test: %.3f' % (\n",
    "        r2_score(y_train, y_train_pred),\n",
    "        r2_score(y_test, y_test_pred)))\n",
    "        # r2_score(y_train_std, y_train_pred),\n",
    "        # r2_score(y_test_std, y_test_pred)))"
   ]
  },
  {
   "cell_type": "markdown",
   "metadata": {},
   "source": [
    "Thus far, this code shows the first step in the experimentation process that I will continue to do. This project will mainly consist of adding data to X or adjusting the parameters of the models, and training all three algorithms on the new data to see how it improves prediction. The code runnnin"
   ]
  }
 ],
 "metadata": {
  "kernelspec": {
   "display_name": "Python 3",
   "language": "python",
   "name": "python3"
  },
  "language_info": {
   "codemirror_mode": {
    "name": "ipython",
    "version": 3
   },
   "file_extension": ".py",
   "mimetype": "text/x-python",
   "name": "python",
   "nbconvert_exporter": "python",
   "pygments_lexer": "ipython3",
   "version": "3.8.6"
  }
 },
 "nbformat": 4,
 "nbformat_minor": 4
}
